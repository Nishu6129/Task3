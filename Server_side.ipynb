{
 "cells": [
  {
   "cell_type": "code",
   "execution_count": 1,
   "id": "5afe2e2b",
   "metadata": {},
   "outputs": [],
   "source": [
    "#Server\n",
    "import socket,cv2, pickle, struct"
   ]
  },
  {
   "cell_type": "code",
   "execution_count": 2,
   "id": "f1fe3ac6",
   "metadata": {},
   "outputs": [
    {
     "name": "stdout",
     "output_type": "stream",
     "text": [
      "HOST IP: 192.168.56.1\n"
     ]
    }
   ],
   "source": [
    "server_socket = socket.socket(socket.AF_INET,socket.SOCK_STREAM)\n",
    "host_name  = socket.gethostname()\n",
    "host_ip = socket.gethostbyname(host_name)\n",
    "print('HOST IP:',host_ip)\n",
    "port = 9991\n",
    "socket_address = (host_ip,port)"
   ]
  },
  {
   "cell_type": "code",
   "execution_count": 3,
   "id": "6632b5ba",
   "metadata": {},
   "outputs": [],
   "source": [
    "server_socket.bind(socket_address)"
   ]
  },
  {
   "cell_type": "code",
   "execution_count": 4,
   "id": "f4a84785",
   "metadata": {},
   "outputs": [
    {
     "name": "stdout",
     "output_type": "stream",
     "text": [
      "SERVER IS LISTENING   ('192.168.56.1', 9991)\n"
     ]
    }
   ],
   "source": [
    "server_socket.listen(2)\n",
    "print(\"SERVER IS LISTENING  \",socket_address)"
   ]
  },
  {
   "cell_type": "code",
   "execution_count": 5,
   "id": "eec47f3b",
   "metadata": {},
   "outputs": [
    {
     "name": "stdout",
     "output_type": "stream",
     "text": [
      "Recieved request from -->  ('192.168.56.1', 51192)\n"
     ]
    },
    {
     "ename": "NameError",
     "evalue": "name 'cv2' is not defined",
     "output_type": "error",
     "traceback": [
      "\u001b[1;31m---------------------------------------------------------------------------\u001b[0m",
      "\u001b[1;31mNameError\u001b[0m                                 Traceback (most recent call last)",
      "\u001b[1;32m<ipython-input-5-f1ff94b97cc5>\u001b[0m in \u001b[0;36m<module>\u001b[1;34m\u001b[0m\n\u001b[0;32m      5\u001b[0m     \u001b[0mprint\u001b[0m\u001b[1;33m(\u001b[0m\u001b[1;34m'Recieved request from --> '\u001b[0m\u001b[1;33m,\u001b[0m\u001b[0maddr\u001b[0m\u001b[1;33m)\u001b[0m\u001b[1;33m\u001b[0m\u001b[1;33m\u001b[0m\u001b[0m\n\u001b[0;32m      6\u001b[0m     \u001b[1;32mif\u001b[0m \u001b[0mclient_socket\u001b[0m\u001b[1;33m:\u001b[0m\u001b[1;33m\u001b[0m\u001b[1;33m\u001b[0m\u001b[0m\n\u001b[1;32m----> 7\u001b[1;33m         \u001b[0mvideo\u001b[0m \u001b[1;33m=\u001b[0m \u001b[0mcv2\u001b[0m\u001b[1;33m.\u001b[0m\u001b[0mVideoCapture\u001b[0m\u001b[1;33m(\u001b[0m\u001b[1;36m0\u001b[0m\u001b[1;33m)\u001b[0m\u001b[1;33m\u001b[0m\u001b[1;33m\u001b[0m\u001b[0m\n\u001b[0m\u001b[0;32m      8\u001b[0m \u001b[1;33m\u001b[0m\u001b[0m\n\u001b[0;32m      9\u001b[0m         \u001b[1;32mwhile\u001b[0m\u001b[1;33m(\u001b[0m\u001b[0mvideo\u001b[0m\u001b[1;33m.\u001b[0m\u001b[0misOpened\u001b[0m\u001b[1;33m(\u001b[0m\u001b[1;33m)\u001b[0m\u001b[1;33m)\u001b[0m\u001b[1;33m:\u001b[0m\u001b[1;33m\u001b[0m\u001b[1;33m\u001b[0m\u001b[0m\n",
      "\u001b[1;31mNameError\u001b[0m: name 'cv2' is not defined"
     ]
    }
   ],
   "source": [
    "while True:\n",
    "    #Here Accept the request from clients\n",
    "    client_socket,addr = server_socket.accept()\n",
    "    \n",
    "    print('Recieved request from --> ',addr)\n",
    "    if client_socket:\n",
    "        video = cv2.VideoCapture(0)\n",
    "        \n",
    "        while(video.isOpened()):\n",
    "            img,frame = video.read()\n",
    "            frame_into_bytes = pickle.dumps(frame)\n",
    "            frames = struct.pack(\"Q\",len(frame_into_bytes))+frame_into_bytes\n",
    "            client_socket.sendall(frames)\n",
    "            \n",
    "            cv2.imshow('TRANSMITTING VIDEO',video)\n",
    "            key = cv2.waitKey(1) & 0xFF\n",
    "            if key  == ord('q'):\n",
    "                client_socket.close()"
   ]
  },
  {
   "cell_type": "code",
   "execution_count": null,
   "id": "78140574",
   "metadata": {},
   "outputs": [],
   "source": []
  }
 ],
 "metadata": {
  "kernelspec": {
   "display_name": "Python 3",
   "language": "python",
   "name": "python3"
  },
  "language_info": {
   "codemirror_mode": {
    "name": "ipython",
    "version": 3
   },
   "file_extension": ".py",
   "mimetype": "text/x-python",
   "name": "python",
   "nbconvert_exporter": "python",
   "pygments_lexer": "ipython3",
   "version": "3.8.8"
  }
 },
 "nbformat": 4,
 "nbformat_minor": 5
}
